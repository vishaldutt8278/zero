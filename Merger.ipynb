{
 "cells": [
  {
   "cell_type": "code",
   "execution_count": 4,
   "id": "aad57bb4",
   "metadata": {},
   "outputs": [],
   "source": [
    "import pandas as pd\n",
    "import os\n",
    "import glob"
   ]
  },
  {
   "cell_type": "code",
   "execution_count": 21,
   "id": "ef4079f5",
   "metadata": {},
   "outputs": [],
   "source": [
    "\n",
    "all_data = []\n",
    "for f in glob.glob(r\"C:\\Users\\vishaldu\\DOCS\\Miscellaneous\\ExcelWBs\\BOM\\BOM\\8000\\*.xlsx\"):\n",
    "    all_data.append(pd.read_excel(f))\n",
    "df = pd.concat(all_data, ignore_index=False)\n",
    "\n",
    "\n",
    "df.to_excel(excel_writer=r\"C:\\Users\\vishaldu\\DOCS\\Miscellaneous\\ExcelWBs\\BOM\\Combined\\{0}\".format('AllData8000' + '.xlsx'))\n"
   ]
  },
  {
   "cell_type": "code",
   "execution_count": null,
   "id": "d7581637",
   "metadata": {},
   "outputs": [],
   "source": []
  }
 ],
 "metadata": {
  "kernelspec": {
   "display_name": "Python 3 (ipykernel)",
   "language": "python",
   "name": "python3"
  },
  "language_info": {
   "codemirror_mode": {
    "name": "ipython",
    "version": 3
   },
   "file_extension": ".py",
   "mimetype": "text/x-python",
   "name": "python",
   "nbconvert_exporter": "python",
   "pygments_lexer": "ipython3",
   "version": "3.9.12"
  }
 },
 "nbformat": 4,
 "nbformat_minor": 5
}
