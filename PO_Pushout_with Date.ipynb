{
 "cells": [
  {
   "cell_type": "code",
   "execution_count": 7,
   "id": "e3cdd1cc",
   "metadata": {},
   "outputs": [],
   "source": [
    "import pandas as pd\n",
    "import os\n",
    "import glob\n",
    "from openpyxl import load_workbook\n",
    "from datetime import timedelta, timezone\n",
    "from datetime import datetime\n",
    "\n",
    "\n",
    "#merging downloaded data from sharepoint\n",
    "all_data = []\n",
    "for f in glob.glob(r\"C:\\Users\\vishaldu\\DOCS\\Miscellaneous\\PO Pushout\\*.csv\"):\n",
    "    all_data.append(pd.read_csv(f))\n",
    "df = pd.concat(all_data, ignore_index=True)\n",
    "\n",
    "\n",
    "today =datetime.now(timezone.utc).date()\n",
    "t1 = today + timedelta(3)\n",
    "\n",
    "\n",
    "month_name = datetime.strftime(today, '%b') \n",
    "datestring = datetime.strftime(today, '%Y-%m-%d') \n",
    "datestring1 = datetime.strftime(t1, '%Y-%m-%d') \n",
    "\n",
    "#yesterday = today - timedelta(1)\n",
    "df['Date Added to Report'] = datestring1\n",
    "\n",
    "df['Standard Cost']= df['Total Adj Oppty value']/df['Total Adj Oppty qty']\n",
    "df['Sep Executed Qty'] = df['Sep Cancelled Qty']+df['Sep Push Out Outside CQ Qty']\n",
    "df['Sep Balance Oppty Qty']= df['Total Adj Oppty qty']-df['Sep Executed Qty']-df['Sep Not An Oppty Qty']\n",
    "df[' Sep Cancelled Value ']=df['Sep Cancelled Qty']*df['Standard Cost']\n",
    "df[' Sep Push Out Outside CQ Value ']= df['Sep Push Out Outside CQ Qty']*df['Standard Cost']\n",
    "df[' Sep Not An Oppty Value ']=df['Sep Not An Oppty Qty']*df['Standard Cost']\n",
    "df[' Sep Balance Oppty Value ']=df['Sep Balance Oppty Qty']*df['Standard Cost']\n",
    "\n",
    "df['Oct Executed Qty'] = df['Oct Cancelled Qty']+df['Oct Push Out Outside CQ Qty']\n",
    "df['Oct Balance Oppty Qty']= df['Sep Balance Oppty Qty']-df['Oct Executed Qty']-df['Oct Not An Oppty Qty']\n",
    "df[' Oct Cancelled Value ']=df['Oct Cancelled Qty']*df['Standard Cost']\n",
    "df[' Oct Push Out Outside CQ Value ']= df['Oct Push Out Outside CQ Qty']*df['Standard Cost']\n",
    "df[' Oct Not An Oppty Value ']=df['Oct Not An Oppty Qty']*df['Standard Cost']\n",
    "df[' Oct Balance Oppty Value ']=df['Oct Balance Oppty Qty']*df['Standard Cost']\n",
    "\n",
    "df['Nov Executed Qty'] = df['Nov Cancelled Qty']+df['Nov Push Out Outside CQ Qty']\n",
    "df['Nov Balance Oppty Qty']= df['Oct Balance Oppty Qty']-df['Nov Executed Qty']-df['Nov Not An Oppty Qty']\n",
    "df[' Nov Cancelled Value ']=df['Nov Cancelled Qty']*df['Standard Cost']\n",
    "df[' Nov Push Out Outside CQ Value ']= df['Nov Push Out Outside CQ Qty']*df['Standard Cost']\n",
    "df[' Nov Not An Oppty Value ']=df['Nov Not An Oppty Qty']*df['Standard Cost']\n",
    "df[' Nov Balance Oppty Value ']=df['Nov Balance Oppty Qty']*df['Standard Cost']\n",
    "\n",
    "\n",
    "df.to_excel(excel_writer=r\"C:\\Users\\vishaldu\\DOCS\\Miscellaneous\\PO Pushout\\Merged\\{0}\".format('AllData' + datestring1 + '.xlsx'))\n",
    "\n",
    "#merging all data in Merged folder\n",
    "all_data = []\n",
    "for f in glob.glob(r\"C:\\Users\\vishaldu\\DOCS\\Miscellaneous\\PO Pushout\\Merged\\*.xlsx\"):\n",
    "    all_data.append(pd.read_excel(f))\n",
    "df = pd.concat(all_data, ignore_index=True)\n",
    "\n",
    "\n",
    "df.drop(df.columns[0],axis=1, inplace=True)\n",
    "\n",
    "\n",
    "df.to_excel(r'C:\\Users\\vishaldu\\DOCS\\Miscellaneous\\PO Pushout\\Final\\Final.xlsx',index=False)\n",
    "\n",
    "\n",
    "\n"
   ]
  },
  {
   "cell_type": "code",
   "execution_count": null,
   "id": "4306a7b9",
   "metadata": {},
   "outputs": [],
   "source": [
    "\n"
   ]
  },
  {
   "cell_type": "code",
   "execution_count": 8,
   "id": "5e46674a",
   "metadata": {},
   "outputs": [
    {
     "data": {
      "text/plain": [
       "'2022-09-12'"
      ]
     },
     "execution_count": 8,
     "metadata": {},
     "output_type": "execute_result"
    }
   ],
   "source": [
    "datetime.strftime(today, '%Y-%m-%d')"
   ]
  },
  {
   "cell_type": "code",
   "execution_count": 204,
   "id": "0009a29a",
   "metadata": {},
   "outputs": [],
   "source": []
  }
 ],
 "metadata": {
  "kernelspec": {
   "display_name": "Python 3 (ipykernel)",
   "language": "python",
   "name": "python3"
  },
  "language_info": {
   "codemirror_mode": {
    "name": "ipython",
    "version": 3
   },
   "file_extension": ".py",
   "mimetype": "text/x-python",
   "name": "python",
   "nbconvert_exporter": "python",
   "pygments_lexer": "ipython3",
   "version": "3.9.12"
  }
 },
 "nbformat": 4,
 "nbformat_minor": 5
}
